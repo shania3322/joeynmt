{
 "cells": [
  {
   "cell_type": "code",
   "execution_count": 1,
   "metadata": {},
   "outputs": [],
   "source": [
    "import pandas as pd\n",
    "import numpy as np\n",
    "import pyter"
   ]
  },
  {
   "cell_type": "code",
   "execution_count": 2,
   "metadata": {},
   "outputs": [],
   "source": [
    "# Fake_ter is only for demostration and testing when pyter is not available.\n",
    "# The function compares the exact difference between two strings.\n",
    "from difflib import SequenceMatcher \n",
    "\n",
    "def fake_ter(hyp, ref):\n",
    "    seq = SequenceMatcher(None,hyp,ref)\n",
    "    return seq.ratio()"
   ]
  },
  {
   "cell_type": "code",
   "execution_count": 3,
   "metadata": {},
   "outputs": [
    {
     "data": {
      "text/html": [
       "<div>\n",
       "<style scoped>\n",
       "    .dataframe tbody tr th:only-of-type {\n",
       "        vertical-align: middle;\n",
       "    }\n",
       "\n",
       "    .dataframe tbody tr th {\n",
       "        vertical-align: top;\n",
       "    }\n",
       "\n",
       "    .dataframe thead th {\n",
       "        text-align: right;\n",
       "    }\n",
       "</style>\n",
       "<table border=\"1\" class=\"dataframe\">\n",
       "  <thead>\n",
       "    <tr style=\"text-align: right;\">\n",
       "      <th></th>\n",
       "      <th>Predictions</th>\n",
       "      <th>Scores</th>\n",
       "    </tr>\n",
       "  </thead>\n",
       "  <tbody>\n",
       "    <tr>\n",
       "      <th>0</th>\n",
       "      <td>Der neue indische Premierminister Narendra Modi trifft seinen japanischen Amtskollegen Shinzo Abe in Tokio anlässlic...</td>\n",
       "      <td>-1.983042</td>\n",
       "    </tr>\n",
       "    <tr>\n",
       "      <th>1</th>\n",
       "      <td>Der neue indische Premierminister Narendra Modi trifft sich mit seinem japanischen Amtskollegen Shinzo Abe in Tokio ...</td>\n",
       "      <td>-1.992233</td>\n",
       "    </tr>\n",
       "    <tr>\n",
       "      <th>2</th>\n",
       "      <td>Der neue indische Premierminister Narendra Modi trifft sich mit seinem japanischen Amtskollegen Shinzo Abe in Tokio ...</td>\n",
       "      <td>-1.992458</td>\n",
       "    </tr>\n",
       "    <tr>\n",
       "      <th>3</th>\n",
       "      <td>Indiens neuer Premierminister , Narendra Modi , trifft sich mit seinem japanischen Amtskollegen Shinzo Abe in Tokio ...</td>\n",
       "      <td>-1.993631</td>\n",
       "    </tr>\n",
       "    <tr>\n",
       "      <th>4</th>\n",
       "      <td>Indiens neuer Premierminister , Narendra Modi , trifft sich mit seinem japanischen Amtskollegen Shinzo Abe in Tokio ...</td>\n",
       "      <td>-1.994340</td>\n",
       "    </tr>\n",
       "  </tbody>\n",
       "</table>\n",
       "</div>"
      ],
      "text/plain": [
       "                                                                                                               Predictions  \\\n",
       "0  Der neue indische Premierminister Narendra Modi trifft seinen japanischen Amtskollegen Shinzo Abe in Tokio anlässlic...   \n",
       "1  Der neue indische Premierminister Narendra Modi trifft sich mit seinem japanischen Amtskollegen Shinzo Abe in Tokio ...   \n",
       "2  Der neue indische Premierminister Narendra Modi trifft sich mit seinem japanischen Amtskollegen Shinzo Abe in Tokio ...   \n",
       "3  Indiens neuer Premierminister , Narendra Modi , trifft sich mit seinem japanischen Amtskollegen Shinzo Abe in Tokio ...   \n",
       "4  Indiens neuer Premierminister , Narendra Modi , trifft sich mit seinem japanischen Amtskollegen Shinzo Abe in Tokio ...   \n",
       "\n",
       "     Scores  \n",
       "0 -1.983042  \n",
       "1 -1.992233  \n",
       "2 -1.992458  \n",
       "3 -1.993631  \n",
       "4 -1.994340  "
      ]
     },
     "execution_count": 3,
     "metadata": {},
     "output_type": "execute_result"
    }
   ],
   "source": [
    "path = \"models\\sy_transformer_wmt17_ende_groundhog_3\\hyps_50.csv\"\n",
    "num_rows = 100\n",
    "r_data = pd.read_csv(path, nrows=num_rows, index_col=[0])\n",
    "r_data = r_data.drop(['TER scores','Z_scores'], axis = 1)\n",
    "data = r_data[50:100]\n",
    "#print(data.head())\n",
    "data = data.reset_index(drop=True)\n",
    "data.style.set_properties(**{'text-align': 'left'})\n",
    "pd.set_option('display.max_colwidth', 120)\n",
    "data.head()\n"
   ]
  },
  {
   "cell_type": "code",
   "execution_count": 4,
   "metadata": {},
   "outputs": [],
   "source": [
    "def find_seq_list(data:pd.DataFrame, n:int, alpha=1.0, beta=1.0):\n",
    "    memo_ter = [[] for _ in range(n-1)]\n",
    "    selected_list = []\n",
    "    remaining_list = [bool(1) for _ in range(len(data.index))]\n",
    "  \n",
    "\n",
    "    def cal_seq(data:pd.DataFrame, selected_list:list, remaining_list:list, n: int, memo_ter: list, alpha:float, beta:float):\n",
    "    \n",
    "        assert n > 0, \"Number of selected predictions has to be a positive integer.\"\n",
    "    \n",
    "        if n == 1:\n",
    "            selected_idx = np.argmax(data[\"Scores\"].to_numpy())\n",
    "            selected_list.append(selected_idx)\n",
    "            remaining_list[selected_idx] = False\n",
    "            return selected_list, remaining_list, memo_ter\n",
    "    \n",
    "        if n > 1:\n",
    "            selected_list, remaining_list, memo_ter = cal_seq(data, selected_list, remaining_list, n-1, memo_ter,alpha, beta)\n",
    "\n",
    "            print(n-2)\n",
    "            ter_list = [[] for _ in range(len(data.index))]\n",
    "            ref = data[\"Predictions\"][selected_list[n-2]]\n",
    "            for iter_i in range(len(data.index)): \n",
    "                if remaining_list[iter_i] == 0:  \n",
    "                    # exclude elements in selected_list as hypotheses to be compared to ref\n",
    "                    ter_list[iter_i] = 0.0\n",
    "                else: \n",
    "                    ter_list[iter_i] = pyter.ter(data[\"Predictions\"][iter_i], ref)\n",
    "                    #ter_list[iter_i] = fake_ter(data[\"Predictions\"][iter_i], ref)\n",
    "\n",
    "            memo_ter[n-2] = ter_list\n",
    "            print(\"second\")\n",
    "            # save ter_list for i step to memo_ter\n",
    "\n",
    "            sum_ter = np.zeros((len(data.index),1))\n",
    "            z_scores = np.ones(sum_ter.shape)*(-np.inf)\n",
    "            for j in range(n-1):\n",
    "                ter = np.array(memo_ter[j],dtype = np.float64).reshape(50,1)               \n",
    "                sum_ter = sum_ter + ter\n",
    "            sum_ter = sum_ter/(n-1)\n",
    "            z_scores[remaining_list] = alpha * np.array(data[\"Scores\"][remaining_list]).reshape(-1,1) + beta * sum_ter[remaining_list]\n",
    "            selected_idx = np.argmax(z_scores)\n",
    "            selected_list.append(selected_idx)\n",
    "            remaining_list[selected_idx] = False\n",
    "      \n",
    "            return selected_list, remaining_list, memo_ter\n",
    "    \n",
    "    selected_ls, remaining_ls, ter_ls = cal_seq(data, selected_list, remaining_list, n, memo_ter, alpha, beta)\n",
    "    print(\"third\")\n",
    "    print(len(ter_ls))\n",
    "    return selected_ls, remaining_ls, ter_ls"
   ]
  },
  {
   "cell_type": "code",
   "execution_count": 5,
   "metadata": {},
   "outputs": [
    {
     "name": "stdout",
     "output_type": "stream",
     "text": [
      "0\n",
      "second\n",
      "1\n",
      "second\n",
      "2\n",
      "second\n",
      "third\n",
      "3\n"
     ]
    }
   ],
   "source": [
    "selected_ls, remaining_ls, ter_ls = find_seq_list(data,4)"
   ]
  },
  {
   "cell_type": "code",
   "execution_count": 6,
   "metadata": {},
   "outputs": [
    {
     "name": "stdout",
     "output_type": "stream",
     "text": [
      "[0, 25, 14, 7]\n",
      "[False, True, True, True, True, True, True, False, True, True, True, True, True, True, False, True, True, True, True, True, True, True, True, True, True, False, True, True, True, True, True, True, True, True, True, True, True, True, True, True, True, True, True, True, True, True, True, True, True, True]\n",
      "3\n"
     ]
    }
   ],
   "source": [
    "print(selected_ls)\n",
    "print(remaining_ls)\n",
    "print(len(ter_ls))"
   ]
  },
  {
   "cell_type": "code",
   "execution_count": null,
   "metadata": {},
   "outputs": [],
   "source": [
    "sub_df = data[[\"Predictions\",\"Scores\"]]\n",
    "sub_df.iloc[selected_ls]"
   ]
  },
  {
   "cell_type": "code",
   "execution_count": null,
   "metadata": {},
   "outputs": [],
   "source": []
  }
 ],
 "metadata": {
  "kernelspec": {
   "display_name": "synmt",
   "language": "python",
   "name": "synmt"
  },
  "language_info": {
   "codemirror_mode": {
    "name": "ipython",
    "version": 3
   },
   "file_extension": ".py",
   "mimetype": "text/x-python",
   "name": "python",
   "nbconvert_exporter": "python",
   "pygments_lexer": "ipython3",
   "version": "3.7.4"
  }
 },
 "nbformat": 4,
 "nbformat_minor": 4
}
